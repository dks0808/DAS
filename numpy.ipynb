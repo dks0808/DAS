{
 "cells": [
  {
   "cell_type": "markdown",
   "id": "cf4d8b0e-da84-4218-ad56-e736dcaec911",
   "metadata": {},
   "source": [
    "## Numpy 알아보기\n",
    "##### Numpy 는 n 차원으로 이루어진 배열(array)를 연산할 수 있는 모듈이며, Cpp로 이루어져 있어 연산 속도가 빠름. 흔히 행렬 계산하는데 쓰인다."
   ]
  },
  {
   "cell_type": "code",
   "execution_count": 2,
   "id": "29ae3ba9-0cda-45dd-9ab7-beaad7583127",
   "metadata": {},
   "outputs": [],
   "source": [
    "import numpy as np\n",
    "import pandas as pd"
   ]
  },
  {
   "cell_type": "code",
   "execution_count": 3,
   "id": "6c3f5371-baff-4b0d-8e13-de5d7c9aaa93",
   "metadata": {},
   "outputs": [],
   "source": [
    "array1 = np.array([0,1,2,3,4,5,6,7,8,9])"
   ]
  },
  {
   "cell_type": "code",
   "execution_count": 4,
   "id": "354feec9-5b89-44f4-9e44-f3611fa9c4b8",
   "metadata": {},
   "outputs": [
    {
     "name": "stdout",
     "output_type": "stream",
     "text": [
      "[0 1 2 3 4 5 6 7 8 9]\n"
     ]
    },
    {
     "data": {
      "text/plain": [
       "numpy.ndarray"
      ]
     },
     "execution_count": 4,
     "metadata": {},
     "output_type": "execute_result"
    }
   ],
   "source": [
    "print(array1)\n",
    "type(array1) \n",
    "# 주피터 노트북에서는 마지막 줄을 프린트로 내보낼 수 있는 경우 output 으로 내보낸다.\n",
    "# 개행을 하고 마지막 줄 아닌 값도 출력하고 싶으면 프린트로 해주셈. \n",
    "# 또한 out  put 이 거슬리면 둘다 프린트로 묶어줘도 됨."
   ]
  },
  {
   "cell_type": "code",
   "execution_count": 5,
   "id": "80a5f12e-e2e4-4efa-8fec-71f842136920",
   "metadata": {},
   "outputs": [
    {
     "name": "stdout",
     "output_type": "stream",
     "text": [
      "[[ 1  2  3  4]\n",
      " [ 5  6  7  8]\n",
      " [ 9 10 11 12]\n",
      " [12 13 14 15]]\n"
     ]
    }
   ],
   "source": [
    "array2 = np.array([[1,2,3,4],[5,6,7,8],[9,10,11,12],[12,13,14,15]])\n",
    "print(array2)"
   ]
  },
  {
   "cell_type": "code",
   "execution_count": 6,
   "id": "2c3f85c3-6add-48fc-bdd8-fbecb9b105a0",
   "metadata": {},
   "outputs": [
    {
     "data": {
      "text/plain": [
       "(4, 4)"
      ]
     },
     "execution_count": 6,
     "metadata": {},
     "output_type": "execute_result"
    }
   ],
   "source": [
    "array2.shape # (행, 열) 갯수 이렇게 나오는 듯? "
   ]
  },
  {
   "cell_type": "markdown",
   "id": "94ffa952-f1ae-4518-8e5c-f6d8e2eb53b0",
   "metadata": {},
   "source": [
    "##### np.zeros() , np.ones(), np.arange() 함수들"
   ]
  },
  {
   "cell_type": "code",
   "execution_count": 8,
   "id": "8322d8fe-1544-4f4a-b6fd-259d349e48a5",
   "metadata": {},
   "outputs": [
    {
     "data": {
      "text/plain": [
       "array([[0., 0., 0.],\n",
       "       [0., 0., 0.],\n",
       "       [0., 0., 0.]])"
      ]
     },
     "execution_count": 8,
     "metadata": {},
     "output_type": "execute_result"
    }
   ],
   "source": [
    "np.zeros((3,3)) # parameter 에 (행,열) 을 넣어줘야함. 괄호로 묶어"
   ]
  },
  {
   "cell_type": "code",
   "execution_count": 9,
   "id": "07ca482c-c710-4dfb-8e7f-416e26a215ec",
   "metadata": {},
   "outputs": [
    {
     "data": {
      "text/plain": [
       "array([[1., 1., 1.],\n",
       "       [1., 1., 1.],\n",
       "       [1., 1., 1.]])"
      ]
     },
     "execution_count": 9,
     "metadata": {},
     "output_type": "execute_result"
    }
   ],
   "source": [
    "np.ones((3,3))"
   ]
  },
  {
   "cell_type": "code",
   "execution_count": 10,
   "id": "1c973217-0c45-4b4d-a773-352fe60ac0ef",
   "metadata": {},
   "outputs": [
    {
     "data": {
      "text/plain": [
       "array([ 0,  2,  4,  6,  8, 10, 12, 14, 16, 18, 20, 22, 24, 26, 28, 30])"
      ]
     },
     "execution_count": 10,
     "metadata": {},
     "output_type": "execute_result"
    }
   ],
   "source": [
    "np.arange(0,31,2) # start, stop, step"
   ]
  },
  {
   "cell_type": "markdown",
   "id": "83c0e80f-98fe-44f4-a0ff-fd7b998328ac",
   "metadata": {},
   "source": [
    "###### 비슷한 함수로는 python 기본 함수인 range 가 있음"
   ]
  },
  {
   "cell_type": "code",
   "execution_count": 12,
   "id": "b020bba4-ac14-4886-8d3a-25e3fd737cfc",
   "metadata": {},
   "outputs": [
    {
     "name": "stdout",
     "output_type": "stream",
     "text": [
      "1\n",
      "3\n",
      "5\n",
      "7\n",
      "9\n"
     ]
    }
   ],
   "source": [
    "for i in range(1,10,2):\n",
    "    print(i)"
   ]
  },
  {
   "cell_type": "markdown",
   "id": "4fc36da2-2935-496e-95cc-58876f8599aa",
   "metadata": {},
   "source": [
    "##### array 연산"
   ]
  },
  {
   "cell_type": "code",
   "execution_count": 14,
   "id": "c996f261-1db2-4e0d-8eb8-fea18c3cb933",
   "metadata": {},
   "outputs": [],
   "source": [
    "test_list1 = [1,2,3,4,5]\n",
    "test_list2 = [6,7,8,9,10]"
   ]
  },
  {
   "cell_type": "code",
   "execution_count": 15,
   "id": "a0a0e788-8518-4bad-86cb-aa38936ccd5d",
   "metadata": {},
   "outputs": [
    {
     "data": {
      "text/plain": [
       "[1, 2, 3, 4, 5, 6, 7, 8, 9, 10]"
      ]
     },
     "execution_count": 15,
     "metadata": {},
     "output_type": "execute_result"
    }
   ],
   "source": [
    "test_list1 + test_list2 \n",
    "# list 연산의 경우 그냥 나열만 됨으로 같은 차원의 원소끼리 덧셈이 안됨.\n",
    "# 따라서 이러한 경우에는 np.array 연산을 해주는 것!\n",
    "# 다만 배열의 연산은 행렬의 연산처럼 되는 것은 아니다."
   ]
  },
  {
   "cell_type": "code",
   "execution_count": 16,
   "id": "e827f8ce-0926-42d8-bcf4-a32bf00cc834",
   "metadata": {},
   "outputs": [],
   "source": [
    "array3 = np.array([[1,2,3],[4,5,6]])"
   ]
  },
  {
   "cell_type": "code",
   "execution_count": 17,
   "id": "1b03574a-2068-499e-9fb9-cff68424f18b",
   "metadata": {},
   "outputs": [
    {
     "name": "stdout",
     "output_type": "stream",
     "text": [
      "[[ 1  4  9]\n",
      " [16 25 36]]\n"
     ]
    }
   ],
   "source": [
    "print(array3 * array3)"
   ]
  },
  {
   "cell_type": "code",
   "execution_count": 18,
   "id": "23069102-2337-410a-a3f9-1f24b2b5ac04",
   "metadata": {},
   "outputs": [
    {
     "name": "stdout",
     "output_type": "stream",
     "text": [
      "[[ 2  4  6]\n",
      " [ 8 10 12]]\n"
     ]
    }
   ],
   "source": [
    "print(array3+array3)"
   ]
  },
  {
   "cell_type": "code",
   "execution_count": 19,
   "id": "93699559-56a9-48cc-a3c6-a04d506d120c",
   "metadata": {},
   "outputs": [
    {
     "name": "stdout",
     "output_type": "stream",
     "text": [
      "[[1.         0.5        0.33333333]\n",
      " [0.25       0.2        0.16666667]]\n"
     ]
    }
   ],
   "source": [
    "print(1/array3)"
   ]
  },
  {
   "cell_type": "code",
   "execution_count": 20,
   "id": "6ab24a43-0fe6-49da-b2fc-94d718d32559",
   "metadata": {},
   "outputs": [],
   "source": [
    "array4 = np.array([[4,4,1],[7,2,12]])"
   ]
  },
  {
   "cell_type": "code",
   "execution_count": 21,
   "id": "2a73b90c-acc1-43a5-9f48-1b1d26f9b319",
   "metadata": {},
   "outputs": [
    {
     "name": "stdout",
     "output_type": "stream",
     "text": [
      "[[ 4  8  3]\n",
      " [28 10 72]] \n",
      " [[0.25       0.5        3.        ]\n",
      " [0.57142857 2.5        0.5       ]] \n",
      " [[ 5  6  4]\n",
      " [11  7 18]]\n"
     ]
    }
   ],
   "source": [
    "print(array3*array4,\"\\n\", \n",
    "      array3/array4,\"\\n\",\n",
    "      array4+array3)"
   ]
  },
  {
   "cell_type": "markdown",
   "id": "c4cb3507-b2d3-456b-aab4-5d765af76872",
   "metadata": {},
   "source": [
    "##### indexing slicing"
   ]
  },
  {
   "cell_type": "code",
   "execution_count": 23,
   "id": "0c001b96-41ba-4d6d-8896-954d4ac7eb7a",
   "metadata": {},
   "outputs": [
    {
     "data": {
      "text/plain": [
       "array([0, 1, 2, 3, 4, 5, 6, 7, 8, 9])"
      ]
     },
     "execution_count": 23,
     "metadata": {},
     "output_type": "execute_result"
    }
   ],
   "source": [
    "array5 = np.arange(10)\n",
    "array5"
   ]
  },
  {
   "cell_type": "code",
   "execution_count": 24,
   "id": "18dc76fb-76ec-4e32-b28e-fb4094b18ab4",
   "metadata": {},
   "outputs": [
    {
     "data": {
      "text/plain": [
       "5"
      ]
     },
     "execution_count": 24,
     "metadata": {},
     "output_type": "execute_result"
    }
   ],
   "source": [
    "array5[5]"
   ]
  },
  {
   "cell_type": "code",
   "execution_count": 25,
   "id": "7c474ead-2eab-4c94-bbf8-f8f4e20cefe8",
   "metadata": {},
   "outputs": [
    {
     "data": {
      "text/plain": [
       "array([1, 2, 3])"
      ]
     },
     "execution_count": 25,
     "metadata": {},
     "output_type": "execute_result"
    }
   ],
   "source": [
    "array5[1:4]"
   ]
  },
  {
   "cell_type": "code",
   "execution_count": 26,
   "id": "7f0cc6c0-2ce3-4630-9e66-b0786a54635c",
   "metadata": {},
   "outputs": [
    {
     "data": {
      "text/plain": [
       "array([[1, 2, 3],\n",
       "       [4, 5, 6],\n",
       "       [7, 8, 9]])"
      ]
     },
     "execution_count": 26,
     "metadata": {},
     "output_type": "execute_result"
    }
   ],
   "source": [
    "array6 = np.array([[1,2,3],[4,5,6],[7,8,9]])\n",
    "array6"
   ]
  },
  {
   "cell_type": "code",
   "execution_count": 27,
   "id": "a3c262af-c2b1-4ee0-bc85-58d364b26fd5",
   "metadata": {},
   "outputs": [
    {
     "data": {
      "text/plain": [
       "array([1, 2, 3])"
      ]
     },
     "execution_count": 27,
     "metadata": {},
     "output_type": "execute_result"
    }
   ],
   "source": [
    "array6[0]"
   ]
  },
  {
   "cell_type": "code",
   "execution_count": 28,
   "id": "1ccd3563-4d47-4aaf-b2b1-a1f7aa62020b",
   "metadata": {},
   "outputs": [
    {
     "data": {
      "text/plain": [
       "2"
      ]
     },
     "execution_count": 28,
     "metadata": {},
     "output_type": "execute_result"
    }
   ],
   "source": [
    "array6[0][1]"
   ]
  },
  {
   "cell_type": "code",
   "execution_count": 29,
   "id": "02cb279e-1843-46b0-93f8-de90f0049696",
   "metadata": {},
   "outputs": [
    {
     "data": {
      "text/plain": [
       "9"
      ]
     },
     "execution_count": 29,
     "metadata": {},
     "output_type": "execute_result"
    }
   ],
   "source": [
    "array6[-1][-1] # [-1][-1] # 배열의 원소에 마지막 원소가 뽑힘"
   ]
  },
  {
   "cell_type": "markdown",
   "id": "74b2ef72-c88e-4421-b3bf-7eb6151f1ae0",
   "metadata": {},
   "source": [
    "### 넘파이 통계 함수"
   ]
  },
  {
   "cell_type": "code",
   "execution_count": 31,
   "id": "46555df1-6333-4379-a2a3-187a44f19222",
   "metadata": {},
   "outputs": [
    {
     "name": "stdout",
     "output_type": "stream",
     "text": [
      "[[-0.78421533  1.35297947 -1.06134029 -0.33461257]\n",
      " [ 0.78010578 -0.55417135  0.06382516  0.83639699]\n",
      " [-0.99408747 -0.5437     -0.37193676  0.19437301]\n",
      " [ 0.9539991  -2.01692179  1.34502569 -1.46872656]\n",
      " [-0.59551598  1.56276592  0.47867224  0.11211346]\n",
      " [-0.25264389 -1.24107111 -0.31026605 -0.54292564]\n",
      " [ 1.48323931 -1.12590163 -1.4936075   1.20237891]]\n"
     ]
    }
   ],
   "source": [
    "array8 = np.random.randn(7,4)\n",
    "print(array8)"
   ]
  },
  {
   "cell_type": "code",
   "execution_count": 32,
   "id": "48e8da5a-2ed9-477e-9410-1a585f9e31a3",
   "metadata": {},
   "outputs": [
    {
     "name": "stdout",
     "output_type": "stream",
     "text": [
      "-3.3257688781853667\n",
      "60\n"
     ]
    }
   ],
   "source": [
    "print(np.sum(array8)) # np.sum() 는 행렬 계산이 아닌 원소 계산을 하기 때문에 \n",
    "# 행렬, 배열, 리스트 전부 다 가능 하다.\n",
    "print(np.sum([10,20,30]))"
   ]
  },
  {
   "cell_type": "code",
   "execution_count": 33,
   "id": "a8747eca-8a01-45a7-80c4-8de1a265b474",
   "metadata": {},
   "outputs": [
    {
     "name": "stdout",
     "output_type": "stream",
     "text": [
      "Rows sum:\n",
      " [-0.82718872  1.12615658 -1.71535122 -1.18662356  1.55803564 -2.34690668\n",
      "  0.06610909]\n",
      "Columns sum:\n",
      " [ 5.90881512e-01 -2.56602050e+00 -1.34962751e+00 -1.00238032e-03]\n"
     ]
    }
   ],
   "source": [
    "print(\"Rows sum:\\n\",np.sum(array8, axis = 1)) # row 을 기준으로 합해서 row 갯수만큼 나옴\n",
    "print(\"Columns sum:\\n\",np.sum(array8, axis = 0)) # column 을 기준으로 합해서 column 갯수만큼 나옴"
   ]
  },
  {
   "cell_type": "code",
   "execution_count": 34,
   "id": "0f3429fd-c08c-4855-8126-b93adee3b762",
   "metadata": {},
   "outputs": [
    {
     "name": "stdout",
     "output_type": "stream",
     "text": [
      "-0.11877745993519166\n",
      "[-0.20679718  0.28153915 -0.42883781 -0.29665589  0.38950891 -0.58672667\n",
      "  0.01652727]\n",
      "[ 8.44116446e-02 -3.66574358e-01 -1.92803929e-01 -1.43197188e-04]\n"
     ]
    }
   ],
   "source": [
    "print(np.mean(array8))\n",
    "print(np.mean(array8, axis = 1))\n",
    "print(np.mean(array8, axis =0))"
   ]
  },
  {
   "cell_type": "code",
   "execution_count": 35,
   "id": "549a1141-defe-4309-b228-876223e45c28",
   "metadata": {},
   "outputs": [
    {
     "name": "stdout",
     "output_type": "stream",
     "text": [
      "totla std: 0.9908588552764234\n",
      "rows std: [0.93713601 0.57058026 0.42553788 1.46563303 0.77969615 0.39310525\n",
      " 1.33633259]\n",
      "columns std: [0.90162335 1.2427363  0.87619224 0.82457925]\n"
     ]
    }
   ],
   "source": [
    "print(\"totla std:\", np.std(array8))\n",
    "print(\"rows std:\", np.std(array8, axis = 1))\n",
    "print(\"columns std:\",np.std(array8, axis =0))"
   ]
  },
  {
   "cell_type": "code",
   "execution_count": 36,
   "id": "41865336-4222-4810-967e-fe9cce29f3de",
   "metadata": {},
   "outputs": [
    {
     "name": "stdout",
     "output_type": "stream",
     "text": [
      "totla median: -0.3224393068276147\n",
      "rows median: [-0.55941395  0.42196547 -0.45781838 -0.25736373  0.29539285 -0.42659584\n",
      "  0.03823864]\n",
      "columns median: [-0.25264389 -0.55417135 -0.31026605  0.11211346]\n"
     ]
    }
   ],
   "source": [
    "print(\"totla median:\", np.median(array8))\n",
    "print(\"rows median:\", np.median(array8, axis = 1))\n",
    "print(\"columns median:\",np.median(array8, axis =0))"
   ]
  },
  {
   "cell_type": "code",
   "execution_count": 72,
   "id": "0904e3da-ce9e-42fc-89b4-cb76c9d528c7",
   "metadata": {},
   "outputs": [
    {
     "name": "stdout",
     "output_type": "stream",
     "text": [
      "[-0.78421533  1.35297947 -1.06134029 -0.33461257]\n",
      "2\n",
      "1\n"
     ]
    }
   ],
   "source": [
    "test_array = array8[0]\n",
    "print(test_array)\n",
    "print(np.argmin(test_array)) # 배열의 가장 작은 원소의 인덱스를 반환\n",
    "print(np.argmax(test_array)) # 배열의 가장 큰 원소의 인덱스를 반환"
   ]
  },
  {
   "cell_type": "code",
   "execution_count": 38,
   "id": "262eef4c-65d2-4bf5-bdea-656eec53d530",
   "metadata": {},
   "outputs": [
    {
     "name": "stdout",
     "output_type": "stream",
     "text": [
      "[-0.78421533  0.56876414 -0.49257616 -0.82718872]\n",
      "[-0.78421533 -1.06102724  1.12611096 -0.37681088]\n"
     ]
    }
   ],
   "source": [
    "print(np.cumsum(test_array)) # cumulate sum 0번째 인덱스부터 계속해서 더 해준 값을 반환\n",
    "print(np.cumprod(test_array)) # cumulate product 0번째 인덱스부터 계속해서 곱해준 값을 반환"
   ]
  },
  {
   "cell_type": "code",
   "execution_count": 78,
   "id": "f8fcb392-1f5b-437b-b432-caa30430d0b5",
   "metadata": {},
   "outputs": [
    {
     "name": "stdout",
     "output_type": "stream",
     "text": [
      "[[-0.28539026  0.40580327  0.23948845]\n",
      " [-0.06414439  0.83080648  1.83960278]\n",
      " [-0.06164704  0.18822261 -0.29747243]\n",
      " [ 0.80547344 -0.68763167  0.01212938]\n",
      " [-0.978994    0.57729452  0.95389834]]\n"
     ]
    }
   ],
   "source": [
    "array9 = np.random.randn(5,3)\n",
    "print(array9)"
   ]
  },
  {
   "cell_type": "code",
   "execution_count": 84,
   "id": "284a661e-df6b-43df-ae65-af70e0a0d712",
   "metadata": {},
   "outputs": [
    {
     "name": "stdout",
     "output_type": "stream",
     "text": [
      "[[       nan 0.6370269  0.48937557]\n",
      " [       nan 0.91148587 1.35631957]\n",
      " [       nan 0.4338463         nan]\n",
      " [0.89748172        nan 0.11013346]\n",
      " [       nan 0.759799   0.9766772 ]]\n",
      "[[8.14475983e-02 1.64676295e-01 5.73547172e-02]\n",
      " [4.11450309e-03 6.90239414e-01 3.38413840e+00]\n",
      " [3.80035788e-03 3.54277509e-02 8.84898477e-02]\n",
      " [6.48787459e-01 4.72837318e-01 1.47121853e-04]\n",
      " [9.58429260e-01 3.33268959e-01 9.09922050e-01]]\n",
      "[[0.28539026 0.40580327 0.23948845]\n",
      " [0.06414439 0.83080648 1.83960278]\n",
      " [0.06164704 0.18822261 0.29747243]\n",
      " [0.80547344 0.68763167 0.01212938]\n",
      " [0.978994   0.57729452 0.95389834]]\n",
      "[[        nan -0.90188679 -1.42925009]\n",
      " [        nan -0.18535838  0.60954967]\n",
      " [        nan -1.67012992         nan]\n",
      " [-0.21632505         nan -4.41212469]\n",
      " [        nan -0.54940271 -0.04719817]]\n",
      "[[0.75172083 1.50050733 1.27059901]\n",
      " [0.93786957 2.29516901 6.29403766]\n",
      " [0.94021468 1.2071022  0.74269306]\n",
      " [2.23775569 0.50276537 1.01220324]\n",
      " [0.37568885 1.78121286 2.59580932]]\n",
      "[[-1.  1.  1.]\n",
      " [-1.  1.  1.]\n",
      " [-1.  1. -1.]\n",
      " [ 1. -1.  1.]\n",
      " [-1.  1.  1.]]\n"
     ]
    },
    {
     "name": "stderr",
     "output_type": "stream",
     "text": [
      "C:\\Users\\agy91\\AppData\\Local\\Temp\\ipykernel_1572\\2109119308.py:1: RuntimeWarning: invalid value encountered in sqrt\n",
      "  print(np.sqrt(array9))\n",
      "C:\\Users\\agy91\\AppData\\Local\\Temp\\ipykernel_1572\\2109119308.py:4: RuntimeWarning: invalid value encountered in log\n",
      "  print(np.log(array9))\n"
     ]
    },
    {
     "ename": "AttributeError",
     "evalue": "module 'numpy' has no attribute 'cell'",
     "output_type": "error",
     "traceback": [
      "\u001b[1;31m---------------------------------------------------------------------------\u001b[0m",
      "\u001b[1;31mAttributeError\u001b[0m                            Traceback (most recent call last)",
      "Cell \u001b[1;32mIn[84], line 7\u001b[0m\n\u001b[0;32m      5\u001b[0m \u001b[38;5;28mprint\u001b[39m(np\u001b[38;5;241m.\u001b[39mexp(array9))\n\u001b[0;32m      6\u001b[0m \u001b[38;5;28mprint\u001b[39m(np\u001b[38;5;241m.\u001b[39msign(array9))\n\u001b[1;32m----> 7\u001b[0m \u001b[38;5;28mprint\u001b[39m(np\u001b[38;5;241m.\u001b[39mcell(array9))\n",
      "File \u001b[1;32m~\\anaconda3\\Lib\\site-packages\\numpy\\__init__.py:333\u001b[0m, in \u001b[0;36m__getattr__\u001b[1;34m(attr)\u001b[0m\n\u001b[0;32m    330\u001b[0m     \u001b[38;5;124m\"\u001b[39m\u001b[38;5;124mRemoved in NumPy 1.25.0\u001b[39m\u001b[38;5;124m\"\u001b[39m\n\u001b[0;32m    331\u001b[0m     \u001b[38;5;28;01mraise\u001b[39;00m \u001b[38;5;167;01mRuntimeError\u001b[39;00m(\u001b[38;5;124m\"\u001b[39m\u001b[38;5;124mTester was removed in NumPy 1.25.\u001b[39m\u001b[38;5;124m\"\u001b[39m)\n\u001b[1;32m--> 333\u001b[0m \u001b[38;5;28;01mraise\u001b[39;00m \u001b[38;5;167;01mAttributeError\u001b[39;00m(\u001b[38;5;124m\"\u001b[39m\u001b[38;5;124mmodule \u001b[39m\u001b[38;5;132;01m{!r}\u001b[39;00m\u001b[38;5;124m has no attribute \u001b[39m\u001b[38;5;124m\"\u001b[39m\n\u001b[0;32m    334\u001b[0m                      \u001b[38;5;124m\"\u001b[39m\u001b[38;5;132;01m{!r}\u001b[39;00m\u001b[38;5;124m\"\u001b[39m\u001b[38;5;241m.\u001b[39mformat(\u001b[38;5;18m__name__\u001b[39m, attr))\n",
      "\u001b[1;31mAttributeError\u001b[0m: module 'numpy' has no attribute 'cell'"
     ]
    }
   ],
   "source": [
    "print(np.sqrt(array9))\n",
    "print(np.square(array9))\n",
    "print(np.abs(array9))\n",
    "print(np.log(array9))\n",
    "print(np.exp(array9))\n",
    "print(np.sign(array9))\n",
    "print(np.cell(array9))"
   ]
  },
  {
   "cell_type": "code",
   "execution_count": null,
   "id": "76c2120f-527f-428a-8125-d188d1d0b5f0",
   "metadata": {},
   "outputs": [],
   "source": []
  }
 ],
 "metadata": {
  "kernelspec": {
   "display_name": "Python 3 (ipykernel)",
   "language": "python",
   "name": "python3"
  },
  "language_info": {
   "codemirror_mode": {
    "name": "ipython",
    "version": 3
   },
   "file_extension": ".py",
   "mimetype": "text/x-python",
   "name": "python",
   "nbconvert_exporter": "python",
   "pygments_lexer": "ipython3",
   "version": "3.12.4"
  }
 },
 "nbformat": 4,
 "nbformat_minor": 5
}
